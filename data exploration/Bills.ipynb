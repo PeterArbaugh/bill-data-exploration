{
  "cells": [
    {
      "cell_type": "code",
      "execution_count": 15,
      "metadata": {
        "colab": {
          "base_uri": "https://localhost:8080/"
        },
        "id": "RWeblslBt9cG",
        "outputId": "e5b2180e-c0ec-40c0-933e-54251a99cade"
      },
      "outputs": [
        {
          "name": "stdout",
          "output_type": "stream",
          "text": [
            "Requirement already satisfied: bs4 in ./bde/lib/python3.11/site-packages (0.0.2)\n",
            "Requirement already satisfied: beautifulsoup4 in ./bde/lib/python3.11/site-packages (from bs4) (4.12.3)\n",
            "Requirement already satisfied: soupsieve>1.2 in ./bde/lib/python3.11/site-packages (from beautifulsoup4->bs4) (2.5)\n",
            "\n",
            "\u001b[1m[\u001b[0m\u001b[34;49mnotice\u001b[0m\u001b[1;39;49m]\u001b[0m\u001b[39;49m A new release of pip is available: \u001b[0m\u001b[31;49m23.2.1\u001b[0m\u001b[39;49m -> \u001b[0m\u001b[32;49m24.0\u001b[0m\n",
            "\u001b[1m[\u001b[0m\u001b[34;49mnotice\u001b[0m\u001b[1;39;49m]\u001b[0m\u001b[39;49m To update, run: \u001b[0m\u001b[32;49mpip install --upgrade pip\u001b[0m\n",
            "Requirement already satisfied: lxml in ./bde/lib/python3.11/site-packages (5.2.1)\n",
            "\n",
            "\u001b[1m[\u001b[0m\u001b[34;49mnotice\u001b[0m\u001b[1;39;49m]\u001b[0m\u001b[39;49m A new release of pip is available: \u001b[0m\u001b[31;49m23.2.1\u001b[0m\u001b[39;49m -> \u001b[0m\u001b[32;49m24.0\u001b[0m\n",
            "\u001b[1m[\u001b[0m\u001b[34;49mnotice\u001b[0m\u001b[1;39;49m]\u001b[0m\u001b[39;49m To update, run: \u001b[0m\u001b[32;49mpip install --upgrade pip\u001b[0m\n",
            "Requirement already satisfied: pandas in ./bde/lib/python3.11/site-packages (2.2.2)\n",
            "Requirement already satisfied: numpy>=1.23.2 in ./bde/lib/python3.11/site-packages (from pandas) (1.26.4)\n",
            "Requirement already satisfied: python-dateutil>=2.8.2 in ./bde/lib/python3.11/site-packages (from pandas) (2.9.0.post0)\n",
            "Requirement already satisfied: pytz>=2020.1 in ./bde/lib/python3.11/site-packages (from pandas) (2024.1)\n",
            "Requirement already satisfied: tzdata>=2022.7 in ./bde/lib/python3.11/site-packages (from pandas) (2024.1)\n",
            "Requirement already satisfied: six>=1.5 in ./bde/lib/python3.11/site-packages (from python-dateutil>=2.8.2->pandas) (1.16.0)\n",
            "\n",
            "\u001b[1m[\u001b[0m\u001b[34;49mnotice\u001b[0m\u001b[1;39;49m]\u001b[0m\u001b[39;49m A new release of pip is available: \u001b[0m\u001b[31;49m23.2.1\u001b[0m\u001b[39;49m -> \u001b[0m\u001b[32;49m24.0\u001b[0m\n",
            "\u001b[1m[\u001b[0m\u001b[34;49mnotice\u001b[0m\u001b[1;39;49m]\u001b[0m\u001b[39;49m To update, run: \u001b[0m\u001b[32;49mpip install --upgrade pip\u001b[0m\n",
            "\u001b[31mERROR: Could not find a version that satisfies the requirement random (from versions: none)\u001b[0m\u001b[31m\n",
            "\u001b[0m\u001b[31mERROR: No matching distribution found for random\u001b[0m\u001b[31m\n",
            "\u001b[0m\n",
            "\u001b[1m[\u001b[0m\u001b[34;49mnotice\u001b[0m\u001b[1;39;49m]\u001b[0m\u001b[39;49m A new release of pip is available: \u001b[0m\u001b[31;49m23.2.1\u001b[0m\u001b[39;49m -> \u001b[0m\u001b[32;49m24.0\u001b[0m\n",
            "\u001b[1m[\u001b[0m\u001b[34;49mnotice\u001b[0m\u001b[1;39;49m]\u001b[0m\u001b[39;49m To update, run: \u001b[0m\u001b[32;49mpip install --upgrade pip\u001b[0m\n"
          ]
        }
      ],
      "source": [
        "!pip install bs4 \n",
        "!pip install lxml\n",
        "!pip install pandas\n",
        "!pip install random"
      ]
    },
    {
      "cell_type": "code",
      "execution_count": 16,
      "metadata": {
        "id": "JqdxdgiptrM-"
      },
      "outputs": [],
      "source": [
        "import requests\n",
        "from bs4 import BeautifulSoup\n",
        "import pandas as pd\n",
        "from lxml import etree\n",
        "import time\n",
        "from random import randint"
      ]
    },
    {
      "cell_type": "code",
      "execution_count": 17,
      "metadata": {
        "id": "xximrWWDtGWd"
      },
      "outputs": [],
      "source": [
        "response = requests.get(\"https://wslwebservices.leg.wa.gov/LegislationService.asmx/GetLegislationByYear?year=2023\")\n",
        "\n",
        "xml_data = response.content\n",
        "\n",
        "root = etree.fromstring(xml_data)"
      ]
    },
    {
      "cell_type": "code",
      "execution_count": 18,
      "metadata": {
        "colab": {
          "base_uri": "https://localhost:8080/",
          "height": 35
        },
        "id": "HhwuGJGAxRMc",
        "outputId": "12e63b29-bf58-4158-fd04-dde2452b5354"
      },
      "outputs": [
        {
          "data": {
            "text/plain": [
              "'2023-24'"
            ]
          },
          "execution_count": 18,
          "metadata": {},
          "output_type": "execute_result"
        }
      ],
      "source": [
        "root[0][0].text"
      ]
    },
    {
      "cell_type": "code",
      "execution_count": 19,
      "metadata": {
        "colab": {
          "base_uri": "https://localhost:8080/"
        },
        "id": "-OjgoAT9zpxy",
        "outputId": "76c6264f-250a-47bf-9969-4167731f592c"
      },
      "outputs": [
        {
          "name": "stdout",
          "output_type": "stream",
          "text": [
            "     Biennium   Bill ID Bill Number                  Bill Type  Agency\n",
            "0     2023-24   HB 1000        1000                       Bill   House\n",
            "1     2023-24   HB 1001        1001                       Bill   House\n",
            "2     2023-24   HB 1002        1002                       Bill   House\n",
            "3     2023-24   HB 1003        1003                       Bill   House\n",
            "4     2023-24  SHB 1003        1003                       Bill   House\n",
            "...       ...       ...         ...                        ...     ...\n",
            "3289  2023-24  SGA 9353        9353  Gubernatorial Appointment  Senate\n",
            "3290  2023-24  SGA 9354        9354  Gubernatorial Appointment  Senate\n",
            "3291  2023-24  SGA 9355        9355  Gubernatorial Appointment  Senate\n",
            "3292  2023-24  SGA 9356        9356  Gubernatorial Appointment  Senate\n",
            "3293  2023-24  SGA 9357        9357  Gubernatorial Appointment  Senate\n",
            "\n",
            "[3294 rows x 5 columns]\n"
          ]
        }
      ],
      "source": [
        "# Define the XML namespace\n",
        "ns = {'ns': 'http://WSLWebServices.leg.wa.gov/'}\n",
        "\n",
        "# Extract information\n",
        "data = []\n",
        "for info in root.findall('ns:LegislationInfo', ns):\n",
        "    biennium = info.find('ns:Biennium', ns)\n",
        "    bill_id = info.find('ns:BillId', ns)\n",
        "    bill_number = info.find('ns:BillNumber', ns)\n",
        "    bill_type = info.find('.//ns:ShortLegislationType/ns:LongLegislationType', ns)\n",
        "    agency = info.find('ns:OriginalAgency', ns)\n",
        "\n",
        "    # Prepare the data dictionary safely\n",
        "    data.append({\n",
        "        'Biennium': biennium.text if biennium is not None else None,\n",
        "        'Bill ID': bill_id.text if bill_id is not None else None,\n",
        "        'Bill Number': bill_number.text if bill_number is not None else None,\n",
        "        'Bill Type': bill_type.text if bill_type is not None else None,\n",
        "        'Agency': agency.text if agency is not None else None\n",
        "    })\n",
        "\n",
        "# Create a DataFrame\n",
        "df = pd.DataFrame(data)\n",
        "print(df)\n"
      ]
    },
    {
      "cell_type": "code",
      "execution_count": 20,
      "metadata": {
        "colab": {
          "base_uri": "https://localhost:8080/",
          "height": 408
        },
        "id": "9o-eZ2Qb1qCb",
        "outputId": "0ad54a9d-d2d9-4938-e37f-f2bb049228ae"
      },
      "outputs": [
        {
          "data": {
            "text/html": [
              "<div>\n",
              "<style scoped>\n",
              "    .dataframe tbody tr th:only-of-type {\n",
              "        vertical-align: middle;\n",
              "    }\n",
              "\n",
              "    .dataframe tbody tr th {\n",
              "        vertical-align: top;\n",
              "    }\n",
              "\n",
              "    .dataframe thead th {\n",
              "        text-align: right;\n",
              "    }\n",
              "</style>\n",
              "<table border=\"1\" class=\"dataframe\">\n",
              "  <thead>\n",
              "    <tr style=\"text-align: right;\">\n",
              "      <th></th>\n",
              "      <th></th>\n",
              "    </tr>\n",
              "    <tr>\n",
              "      <th>Bill Type</th>\n",
              "      <th>Agency</th>\n",
              "    </tr>\n",
              "  </thead>\n",
              "  <tbody>\n",
              "    <tr>\n",
              "      <th rowspan=\"2\" valign=\"top\">Bill</th>\n",
              "      <th>House</th>\n",
              "    </tr>\n",
              "    <tr>\n",
              "      <th>Senate</th>\n",
              "    </tr>\n",
              "    <tr>\n",
              "      <th rowspan=\"2\" valign=\"top\">Concurrent Resolution</th>\n",
              "      <th>House</th>\n",
              "    </tr>\n",
              "    <tr>\n",
              "      <th>Senate</th>\n",
              "    </tr>\n",
              "    <tr>\n",
              "      <th>Gubernatorial Appointment</th>\n",
              "      <th>Senate</th>\n",
              "    </tr>\n",
              "    <tr>\n",
              "      <th rowspan=\"2\" valign=\"top\">Joint Memorial</th>\n",
              "      <th>House</th>\n",
              "    </tr>\n",
              "    <tr>\n",
              "      <th>Senate</th>\n",
              "    </tr>\n",
              "    <tr>\n",
              "      <th rowspan=\"2\" valign=\"top\">Joint Resolution</th>\n",
              "      <th>House</th>\n",
              "    </tr>\n",
              "    <tr>\n",
              "      <th>Senate</th>\n",
              "    </tr>\n",
              "    <tr>\n",
              "      <th rowspan=\"2\" valign=\"top\">Resolution</th>\n",
              "      <th>House</th>\n",
              "    </tr>\n",
              "    <tr>\n",
              "      <th>Senate</th>\n",
              "    </tr>\n",
              "  </tbody>\n",
              "</table>\n",
              "</div>"
            ],
            "text/plain": [
              "Empty DataFrame\n",
              "Columns: []\n",
              "Index: [(Bill, House), (Bill, Senate), (Concurrent Resolution, House), (Concurrent Resolution, Senate), (Gubernatorial Appointment, Senate), (Joint Memorial, House), (Joint Memorial, Senate), (Joint Resolution, House), (Joint Resolution, Senate), (Resolution, House), (Resolution, Senate)]"
            ]
          },
          "execution_count": 20,
          "metadata": {},
          "output_type": "execute_result"
        }
      ],
      "source": [
        "df[['Bill Type', 'Agency']].groupby(by=['Bill Type', 'Agency']).sum()"
      ]
    },
    {
      "cell_type": "code",
      "execution_count": 21,
      "metadata": {
        "id": "Wg9kNyD-30do"
      },
      "outputs": [],
      "source": [
        "# drop the duplicates to keep things simple... for now\n",
        "subset_df = df.drop_duplicates(subset=['Bill Number'])"
      ]
    },
    {
      "cell_type": "code",
      "execution_count": null,
      "metadata": {},
      "outputs": [],
      "source": []
    },
    {
      "cell_type": "code",
      "execution_count": 22,
      "metadata": {
        "id": "NAfEEF5s2jnB"
      },
      "outputs": [],
      "source": [
        "senate_df = subset_df.loc[df['Agency'] == 'Senate']\n",
        "house_df = subset_df.loc[df['Agency'] == 'House']"
      ]
    },
    {
      "cell_type": "code",
      "execution_count": 23,
      "metadata": {
        "id": "q-Hc03cZtw_2"
      },
      "outputs": [],
      "source": [
        "def get_bill_text(bill_number, type, agency):\n",
        "  if agency == 'House':\n",
        "    url = f'https://lawfilesext.leg.wa.gov/biennium/2023-24/Htm/Bills/House%20Bills/{bill_number}.htm'\n",
        "  elif agency == 'Senate':\n",
        "    url = f'https://lawfilesext.leg.wa.gov/biennium/2023-24/Htm/Bills/Senate%20Bills/{bill_number}.htm'\n",
        "\n",
        "  # Generate a random number of seconds to wait\n",
        "  random_seconds = randint(1, 3)  # Random wait between 1 and 3 seconds\n",
        "\n",
        "  # Wait for the random number of seconds\n",
        "  time.sleep(random_seconds)\n",
        "\n",
        "  # Send HTTP request to the URL\n",
        "  response = requests.get(url)\n",
        "\n",
        "  # Ensure the request was successful\n",
        "  if response.status_code == 200:\n",
        "      # Parse the HTML content of the page using BeautifulSoup\n",
        "      soup = BeautifulSoup(response.text, 'html.parser')\n",
        "\n",
        "      # Extract and print the text from the parsed HTML\n",
        "      text = soup.get_text(separator=' ', strip=True)\n",
        "      print(f'Appended {bill_number} text to df')\n",
        "      return text\n",
        "  else:\n",
        "      return None\n"
      ]
    },
    {
      "cell_type": "code",
      "execution_count": 24,
      "metadata": {
        "colab": {
          "base_uri": "https://localhost:8080/",
          "height": 178
        },
        "id": "JSUycPOo_O8r",
        "outputId": "0f77755a-2629-4f8e-92b2-8f45ec80891f"
      },
      "outputs": [
        {
          "name": "stdout",
          "output_type": "stream",
          "text": [
            "Appended 1000 text to df\n"
          ]
        },
        {
          "data": {
            "text/plain": [
              "'ï»¿ H-0113.1 HOUSE BILL 1000 State of Washington 68th Legislature 2023 Regular Session By Representatives Stokesbary, Corry, Barkis, Graham, Griffey, Robertson, and Caldier Prefiled 12/05/22. Read first time 01/09/23. Referred to Committee on Finance. AN ACT Relating to providing sales tax relief by expanding the working families\\' tax credit; reenacting and amending RCW 82.08.0206 ; and providing an effective date. BE IT ENACTED BY THE LEGISLATURE OF THE STATE OF WASHINGTON: Sec. 1. RCW 82.08.0206 and 2022 c 41 s 1 and 2022 c 33 s 1 are each reenacted and amended to read as follows: (1) A working families\\' tax credit, in the form of a refund of tax due under this chapter and chapter 82.12 RCW, is provided to eligible low-income persons for sales and use taxes paid under this chapter and chapter 82.12 RCW after January 1, 2022. (2) For purposes of the credit in this section, the following definitions apply: (a)(i) \"Eligible low-income person\" means an individual who: (A) Is eligible for the credit provided in Title 26 U.S.C. Sec. 32 of the internal revenue code; and (B) Properly files a federal income tax return for the prior federal tax year, and was a Washington resident during the year for which the credit is claimed. (ii) \"Eligible low-income person\" also means an individual who: (A) Meets the requirements provided in (a)(i)(B) of this subsection; and (B) Would otherwise qualify for the credit provided in Title 26 U.S.C. Sec. 32 of the internal revenue code except for the fact that (( the )) either or both: (I) The individual filed a federal income tax return for the prior federal tax year using a valid individual taxpayer identification number in lieu of a social security number, and the individual\\'s spouse, if any, and all qualifying children, if any, have a valid individual taxpayer identification number or a social security number ; (II) The individual has a state qualifying income level that meets state qualifying income levels as determined by the department . (b) \"Income\" means earned income as defined by Title 26 U.S.C. Sec. 32 of the internal revenue code. (c) \"Individual\" means an individual or an individual and that individual\\'s spouse if they file a federal joint income tax return. (d) \"Internal revenue code\" means the United States internal revenue code of 1986, as amended, as of June 9, 2022, or such subsequent date as the department may provide by rule consistent with the purpose of this section. (e) \"Maximum qualifying income\" means the maximum federally adjusted gross income for the prior federal tax year. (f) \"Qualifying child\" means a qualifying child as defined by Title 26 U.S.C. Sec. 32 of the internal revenue code, except the child may have a valid individual taxpayer identification number in lieu of a social security number. (g) \"State qualifying income level\" means an amount determined by the department every year beginning January 1, 2024, that is two times the qualifying federal income level for any filers with dependents. (h) \"Washington resident\" means an individual who is physically present and residing in this state for at least 183 days. \"Washington resident\" also includes an individual who is not physically present and residing in this state for at least 183 days but is the spouse of a Washington resident. For purposes of this subsection, \"day\" means a calendar day or any portion of a calendar day. (3)(a) Except as provided in (b) and (c) of this subsection, for calendar year (( 2023 )) 2024 and thereafter, the base working families\\' tax credit refund amount for the prior calendar year is: (i) $300 for eligible persons with no qualifying children; (ii) (( $600 )) $1,200 for eligible persons with one qualifying child; (iii) (( $900 )) $1,800 for eligible persons with two qualifying children; or (iv) (( $1,200 )) $2,400 for eligible persons with three or more qualifying children. (b) Except as provided in (f) of this subsection, the refund amounts provided in (a) of this subsection will be reduced, rounded to the nearest dollar, as follows: (i) For eligible persons with no qualifying children, beginning at $2,500 of income below the federal phase-out income for the prior federal tax year, by 18 percent per additional dollar of income until the minimum credit amount as specified in (c) of this subsection is reached. (ii) For eligible persons with one qualifying child, beginning at $5,000 of income below two times the federal phase-out income for the prior federal tax year, by 12 percent per additional dollar of income until the minimum credit amount as specified in (c) of this subsection is reached. (iii) For eligible persons with two qualifying children, beginning at $5,000 of income below two times the federal phase-out income for the prior federal tax year, by 15 percent per additional dollar of income until the minimum credit amount as specified in (c) of this subsection is reached. (iv) For eligible persons with three or more qualifying children, beginning at $5,000 of income below two times the federal phase-out income for the prior federal tax year, by 18 percent per additional dollar of income until the minimum credit amount as specified in (c) of this subsection is reached. (c) (i) If the refund for an eligible person with no qualifying children as calculated in this section is greater than or equal to one cent, but less than $50, the refund amount is $50. (ii) If the refund for an eligible person with one or more qualifying children as calculated in this section is greater than one cent, but less than half the base remittance identified in (a) of this subsection, the refund amount is half the base credit identified in (a) of this subsection based on the eligible person\\'s number of qualifying children. (d) The refund amounts in this section shall be adjusted for inflation every year beginning January 1, 2024, based upon changes in the consumer price index that are published by November 15th of the previous year for the most recent 12-month period. The adjusted refund amounts must be rounded to the nearest $5. (e) For purposes of this section, \"consumer price index\" means, for any 12-month period, the average consumer price index for that 12-month period for the Seattle, Washington area for urban wage earners and clerical workers, all items, compiled by the bureau of labor statistics, United States department of labor. (f) The percentage rate of remittance reductions in (b) of this subsection must be adjusted every year beginning January 1, 2023, based on calculations by the department that result in the minimum credit being received at the maximum qualifying income level. (4) The working families\\' tax credit shall be administered as provided in this subsection. (a) The refund paid under this section will be paid to eligible filers who apply pursuant to this subsection. (i) Application must be made to the department in a form and manner determined by the department. If the application process is initially done electronically, the department must provide a paper application upon request. The application must include any information and documentation as required by the department. (ii) Application for the refund under this section must be made in the year following the year for which the federal tax return was filed, but in no case may any refund be provided for any period before January 1, 2022. The department must use the eligible person\\'s most recent federal tax filing for the tax year for which the refund is being claimed to calculate the refund. (iii) A person may not claim a credit on behalf of a deceased individual. No individual may claim a credit under this section for any year in a disallowance period under Title 26 U.S.C. Sec. 32(k)(1) of the internal revenue code or for any year for which the individual is ineligible to claim the credit in Title 26 U.S.C. Sec. 32 of the internal revenue code by reason of Title 26 U.S.C. Sec. 32(k)(2) of the internal revenue code. (b) The department shall protect the privacy and confidentiality of personal data of refund recipients in accordance with chapter 82.32 RCW. (c) The department shall, in conjunction with other agencies or organizations, design and implement a public information campaign to inform potentially eligible persons of the existence of, and requirements for, the credit provided in this section. (d) The department must work with the internal revenue service to administer the credit on an automatic basis as soon as practicable. (5) Receipt of the refund under this section may not be used in eligibility determinations for any state income support programs or in making public charge determinations. (6) The department may adopt rules necessary to implement this section. This includes establishing a date by which applications will be accepted, with the aim of accepting applications as soon as possible. (7) The department must review the application and determine eligibility for the working families\\' tax credit based on information provided by the applicant and through audit and other administrative records, including, when it deems it necessary, verification through internal revenue service data. (8) If, upon review of internal revenue service data or other information obtained by the department, it appears that an individual received a refund that the individual was not entitled to, or received a larger refund than the individual was entitled to, the department may assess against the individual the overpaid amount. The department may also assess such overpaid amount against the individual\\'s spouse if the refund in question was based on both spouses filing a joint federal income tax return for the year for which the refund was claimed. (a) Interest as provided under RCW 82.32.050 applies to assessments authorized under this subsection (8) starting six months after the date the department issued the assessment until the amount due under this subsection (8) is paid in full to the department. Except as otherwise provided in this subsection, penalties may not be assessed on amounts due under this subsection. (b) If an amount due under this subsection is not paid in full by the date due, or the department issues a warrant for the collection of amounts due under this subsection, the department may assess the applicable penalties under RCW 82.32.090 . Penalties under this subsection (8)(b) may not be made due until six months after the department\\'s issuance of the assessment. (c) If the department finds by clear, cogent, and convincing evidence that an individual knowingly submitted, caused to be submitted, or consented to the submission of, a fraudulent claim for refund under this section, the department must assess a penalty of 50 percent of the overpaid amount. This penalty is in addition to any other applicable penalties assessed in accordance with (b) of this subsection (8). (9) If, within the period allowed for refunds under RCW 82.32.060 , the department finds that an individual received a lesser refund than the individual was entitled to, the department must remit the additional amount due under this section to the individual. (10) Interest does not apply to refunds provided under this section. (11) Chapter 82.32 RCW applies to the administration of this section. NEW SECTION. Â\\xa0Â Sec. 2. This act takes effect January 1, 2024. --- END ---'"
            ]
          },
          "execution_count": 24,
          "metadata": {},
          "output_type": "execute_result"
        }
      ],
      "source": [
        "get_bill_text(1000, 'Bill', 'House')"
      ]
    },
    {
      "cell_type": "code",
      "execution_count": 25,
      "metadata": {
        "colab": {
          "background_save": true
        },
        "id": "ILDyEV4C1gcv",
        "outputId": "4bee6eb4-24f4-4d48-f4dd-1c8093717efb"
      },
      "outputs": [
        {
          "name": "stdout",
          "output_type": "stream",
          "text": [
            "Appended 1000 text to df\n",
            "Appended 1001 text to df\n",
            "Appended 1002 text to df\n",
            "Appended 1003 text to df\n",
            "Appended 1004 text to df\n",
            "Appended 1005 text to df\n",
            "Appended 1006 text to df\n",
            "Appended 1007 text to df\n",
            "Appended 1008 text to df\n",
            "Appended 1009 text to df\n",
            "Appended 1010 text to df\n",
            "Appended 1011 text to df\n",
            "Appended 1012 text to df\n",
            "Appended 1013 text to df\n",
            "Appended 1014 text to df\n",
            "Appended 1015 text to df\n",
            "Appended 1016 text to df\n",
            "Appended 1017 text to df\n",
            "Appended 1018 text to df\n",
            "Appended 1019 text to df\n",
            "Appended 1020 text to df\n",
            "Appended 1021 text to df\n",
            "Appended 1022 text to df\n",
            "Appended 1023 text to df\n",
            "Appended 1024 text to df\n",
            "Appended 1025 text to df\n",
            "Appended 1026 text to df\n",
            "Appended 1027 text to df\n",
            "Appended 1028 text to df\n",
            "Appended 1029 text to df\n",
            "Appended 1030 text to df\n",
            "Appended 1031 text to df\n",
            "Appended 1032 text to df\n",
            "Appended 1033 text to df\n",
            "Appended 1034 text to df\n",
            "Appended 1035 text to df\n",
            "Appended 1036 text to df\n",
            "Appended 1037 text to df\n",
            "Appended 1038 text to df\n",
            "Appended 1039 text to df\n",
            "Appended 1040 text to df\n",
            "Appended 1041 text to df\n",
            "Appended 1042 text to df\n",
            "Appended 1043 text to df\n",
            "Appended 1044 text to df\n"
          ]
        },
        {
          "ename": "KeyboardInterrupt",
          "evalue": "",
          "output_type": "error",
          "traceback": [
            "\u001b[0;31m---------------------------------------------------------------------------\u001b[0m",
            "\u001b[0;31mKeyboardInterrupt\u001b[0m                         Traceback (most recent call last)",
            "Cell \u001b[0;32mIn[25], line 1\u001b[0m\n\u001b[0;32m----> 1\u001b[0m house_df[\u001b[38;5;124m'\u001b[39m\u001b[38;5;124mBill Text\u001b[39m\u001b[38;5;124m'\u001b[39m] \u001b[38;5;241m=\u001b[39m \u001b[43msubset_df\u001b[49m\u001b[38;5;241;43m.\u001b[39;49m\u001b[43mapply\u001b[49m\u001b[43m(\u001b[49m\u001b[38;5;28;43;01mlambda\u001b[39;49;00m\u001b[43m \u001b[49m\u001b[43mx\u001b[49m\u001b[43m:\u001b[49m\u001b[43m \u001b[49m\u001b[43mget_bill_text\u001b[49m\u001b[43m(\u001b[49m\u001b[43mx\u001b[49m\u001b[43m[\u001b[49m\u001b[38;5;124;43m'\u001b[39;49m\u001b[38;5;124;43mBill Number\u001b[39;49m\u001b[38;5;124;43m'\u001b[39;49m\u001b[43m]\u001b[49m\u001b[43m,\u001b[49m\u001b[43m \u001b[49m\u001b[43mx\u001b[49m\u001b[43m[\u001b[49m\u001b[38;5;124;43m'\u001b[39;49m\u001b[38;5;124;43mBill Type\u001b[39;49m\u001b[38;5;124;43m'\u001b[39;49m\u001b[43m]\u001b[49m\u001b[43m,\u001b[49m\u001b[43m \u001b[49m\u001b[43mx\u001b[49m\u001b[43m[\u001b[49m\u001b[38;5;124;43m'\u001b[39;49m\u001b[38;5;124;43mAgency\u001b[39;49m\u001b[38;5;124;43m'\u001b[39;49m\u001b[43m]\u001b[49m\u001b[43m)\u001b[49m\u001b[43m,\u001b[49m\u001b[43m \u001b[49m\u001b[43maxis\u001b[49m\u001b[38;5;241;43m=\u001b[39;49m\u001b[38;5;241;43m1\u001b[39;49m\u001b[43m)\u001b[49m\n",
            "File \u001b[0;32m~/Documents/bill-data-exploration/bde/lib/python3.11/site-packages/pandas/core/frame.py:10374\u001b[0m, in \u001b[0;36mDataFrame.apply\u001b[0;34m(self, func, axis, raw, result_type, args, by_row, engine, engine_kwargs, **kwargs)\u001b[0m\n\u001b[1;32m  10360\u001b[0m \u001b[38;5;28;01mfrom\u001b[39;00m \u001b[38;5;21;01mpandas\u001b[39;00m\u001b[38;5;21;01m.\u001b[39;00m\u001b[38;5;21;01mcore\u001b[39;00m\u001b[38;5;21;01m.\u001b[39;00m\u001b[38;5;21;01mapply\u001b[39;00m \u001b[38;5;28;01mimport\u001b[39;00m frame_apply\n\u001b[1;32m  10362\u001b[0m op \u001b[38;5;241m=\u001b[39m frame_apply(\n\u001b[1;32m  10363\u001b[0m     \u001b[38;5;28mself\u001b[39m,\n\u001b[1;32m  10364\u001b[0m     func\u001b[38;5;241m=\u001b[39mfunc,\n\u001b[0;32m   (...)\u001b[0m\n\u001b[1;32m  10372\u001b[0m     kwargs\u001b[38;5;241m=\u001b[39mkwargs,\n\u001b[1;32m  10373\u001b[0m )\n\u001b[0;32m> 10374\u001b[0m \u001b[38;5;28;01mreturn\u001b[39;00m \u001b[43mop\u001b[49m\u001b[38;5;241;43m.\u001b[39;49m\u001b[43mapply\u001b[49m\u001b[43m(\u001b[49m\u001b[43m)\u001b[49m\u001b[38;5;241m.\u001b[39m__finalize__(\u001b[38;5;28mself\u001b[39m, method\u001b[38;5;241m=\u001b[39m\u001b[38;5;124m\"\u001b[39m\u001b[38;5;124mapply\u001b[39m\u001b[38;5;124m\"\u001b[39m)\n",
            "File \u001b[0;32m~/Documents/bill-data-exploration/bde/lib/python3.11/site-packages/pandas/core/apply.py:916\u001b[0m, in \u001b[0;36mFrameApply.apply\u001b[0;34m(self)\u001b[0m\n\u001b[1;32m    913\u001b[0m \u001b[38;5;28;01melif\u001b[39;00m \u001b[38;5;28mself\u001b[39m\u001b[38;5;241m.\u001b[39mraw:\n\u001b[1;32m    914\u001b[0m     \u001b[38;5;28;01mreturn\u001b[39;00m \u001b[38;5;28mself\u001b[39m\u001b[38;5;241m.\u001b[39mapply_raw(engine\u001b[38;5;241m=\u001b[39m\u001b[38;5;28mself\u001b[39m\u001b[38;5;241m.\u001b[39mengine, engine_kwargs\u001b[38;5;241m=\u001b[39m\u001b[38;5;28mself\u001b[39m\u001b[38;5;241m.\u001b[39mengine_kwargs)\n\u001b[0;32m--> 916\u001b[0m \u001b[38;5;28;01mreturn\u001b[39;00m \u001b[38;5;28;43mself\u001b[39;49m\u001b[38;5;241;43m.\u001b[39;49m\u001b[43mapply_standard\u001b[49m\u001b[43m(\u001b[49m\u001b[43m)\u001b[49m\n",
            "File \u001b[0;32m~/Documents/bill-data-exploration/bde/lib/python3.11/site-packages/pandas/core/apply.py:1063\u001b[0m, in \u001b[0;36mFrameApply.apply_standard\u001b[0;34m(self)\u001b[0m\n\u001b[1;32m   1061\u001b[0m \u001b[38;5;28;01mdef\u001b[39;00m \u001b[38;5;21mapply_standard\u001b[39m(\u001b[38;5;28mself\u001b[39m):\n\u001b[1;32m   1062\u001b[0m     \u001b[38;5;28;01mif\u001b[39;00m \u001b[38;5;28mself\u001b[39m\u001b[38;5;241m.\u001b[39mengine \u001b[38;5;241m==\u001b[39m \u001b[38;5;124m\"\u001b[39m\u001b[38;5;124mpython\u001b[39m\u001b[38;5;124m\"\u001b[39m:\n\u001b[0;32m-> 1063\u001b[0m         results, res_index \u001b[38;5;241m=\u001b[39m \u001b[38;5;28;43mself\u001b[39;49m\u001b[38;5;241;43m.\u001b[39;49m\u001b[43mapply_series_generator\u001b[49m\u001b[43m(\u001b[49m\u001b[43m)\u001b[49m\n\u001b[1;32m   1064\u001b[0m     \u001b[38;5;28;01melse\u001b[39;00m:\n\u001b[1;32m   1065\u001b[0m         results, res_index \u001b[38;5;241m=\u001b[39m \u001b[38;5;28mself\u001b[39m\u001b[38;5;241m.\u001b[39mapply_series_numba()\n",
            "File \u001b[0;32m~/Documents/bill-data-exploration/bde/lib/python3.11/site-packages/pandas/core/apply.py:1081\u001b[0m, in \u001b[0;36mFrameApply.apply_series_generator\u001b[0;34m(self)\u001b[0m\n\u001b[1;32m   1078\u001b[0m \u001b[38;5;28;01mwith\u001b[39;00m option_context(\u001b[38;5;124m\"\u001b[39m\u001b[38;5;124mmode.chained_assignment\u001b[39m\u001b[38;5;124m\"\u001b[39m, \u001b[38;5;28;01mNone\u001b[39;00m):\n\u001b[1;32m   1079\u001b[0m     \u001b[38;5;28;01mfor\u001b[39;00m i, v \u001b[38;5;129;01min\u001b[39;00m \u001b[38;5;28menumerate\u001b[39m(series_gen):\n\u001b[1;32m   1080\u001b[0m         \u001b[38;5;66;03m# ignore SettingWithCopy here in case the user mutates\u001b[39;00m\n\u001b[0;32m-> 1081\u001b[0m         results[i] \u001b[38;5;241m=\u001b[39m \u001b[38;5;28;43mself\u001b[39;49m\u001b[38;5;241;43m.\u001b[39;49m\u001b[43mfunc\u001b[49m\u001b[43m(\u001b[49m\u001b[43mv\u001b[49m\u001b[43m,\u001b[49m\u001b[43m \u001b[49m\u001b[38;5;241;43m*\u001b[39;49m\u001b[38;5;28;43mself\u001b[39;49m\u001b[38;5;241;43m.\u001b[39;49m\u001b[43margs\u001b[49m\u001b[43m,\u001b[49m\u001b[43m \u001b[49m\u001b[38;5;241;43m*\u001b[39;49m\u001b[38;5;241;43m*\u001b[39;49m\u001b[38;5;28;43mself\u001b[39;49m\u001b[38;5;241;43m.\u001b[39;49m\u001b[43mkwargs\u001b[49m\u001b[43m)\u001b[49m\n\u001b[1;32m   1082\u001b[0m         \u001b[38;5;28;01mif\u001b[39;00m \u001b[38;5;28misinstance\u001b[39m(results[i], ABCSeries):\n\u001b[1;32m   1083\u001b[0m             \u001b[38;5;66;03m# If we have a view on v, we need to make a copy because\u001b[39;00m\n\u001b[1;32m   1084\u001b[0m             \u001b[38;5;66;03m#  series_generator will swap out the underlying data\u001b[39;00m\n\u001b[1;32m   1085\u001b[0m             results[i] \u001b[38;5;241m=\u001b[39m results[i]\u001b[38;5;241m.\u001b[39mcopy(deep\u001b[38;5;241m=\u001b[39m\u001b[38;5;28;01mFalse\u001b[39;00m)\n",
            "Cell \u001b[0;32mIn[25], line 1\u001b[0m, in \u001b[0;36m<lambda>\u001b[0;34m(x)\u001b[0m\n\u001b[0;32m----> 1\u001b[0m house_df[\u001b[38;5;124m'\u001b[39m\u001b[38;5;124mBill Text\u001b[39m\u001b[38;5;124m'\u001b[39m] \u001b[38;5;241m=\u001b[39m subset_df\u001b[38;5;241m.\u001b[39mapply(\u001b[38;5;28;01mlambda\u001b[39;00m x: \u001b[43mget_bill_text\u001b[49m\u001b[43m(\u001b[49m\u001b[43mx\u001b[49m\u001b[43m[\u001b[49m\u001b[38;5;124;43m'\u001b[39;49m\u001b[38;5;124;43mBill Number\u001b[39;49m\u001b[38;5;124;43m'\u001b[39;49m\u001b[43m]\u001b[49m\u001b[43m,\u001b[49m\u001b[43m \u001b[49m\u001b[43mx\u001b[49m\u001b[43m[\u001b[49m\u001b[38;5;124;43m'\u001b[39;49m\u001b[38;5;124;43mBill Type\u001b[39;49m\u001b[38;5;124;43m'\u001b[39;49m\u001b[43m]\u001b[49m\u001b[43m,\u001b[49m\u001b[43m \u001b[49m\u001b[43mx\u001b[49m\u001b[43m[\u001b[49m\u001b[38;5;124;43m'\u001b[39;49m\u001b[38;5;124;43mAgency\u001b[39;49m\u001b[38;5;124;43m'\u001b[39;49m\u001b[43m]\u001b[49m\u001b[43m)\u001b[49m, axis\u001b[38;5;241m=\u001b[39m\u001b[38;5;241m1\u001b[39m)\n",
            "Cell \u001b[0;32mIn[23], line 11\u001b[0m, in \u001b[0;36mget_bill_text\u001b[0;34m(bill_number, type, agency)\u001b[0m\n\u001b[1;32m      8\u001b[0m random_seconds \u001b[38;5;241m=\u001b[39m randint(\u001b[38;5;241m1\u001b[39m, \u001b[38;5;241m3\u001b[39m)  \u001b[38;5;66;03m# Random wait between 1 and 3 seconds\u001b[39;00m\n\u001b[1;32m     10\u001b[0m \u001b[38;5;66;03m# Wait for the random number of seconds\u001b[39;00m\n\u001b[0;32m---> 11\u001b[0m time\u001b[38;5;241m.\u001b[39msleep(random_seconds)\n\u001b[1;32m     13\u001b[0m \u001b[38;5;66;03m# Send HTTP request to the URL\u001b[39;00m\n\u001b[1;32m     14\u001b[0m response \u001b[38;5;241m=\u001b[39m requests\u001b[38;5;241m.\u001b[39mget(url)\n",
            "\u001b[0;31mKeyboardInterrupt\u001b[0m: "
          ]
        }
      ],
      "source": [
        "house_df['Bill Text'] = subset_df.apply(lambda x: get_bill_text(x['Bill Number'], x['Bill Type'], x['Agency']), axis=1)"
      ]
    },
    {
      "cell_type": "code",
      "execution_count": null,
      "metadata": {},
      "outputs": [
        {
          "data": {
            "text/html": [
              "<div>\n",
              "<style scoped>\n",
              "    .dataframe tbody tr th:only-of-type {\n",
              "        vertical-align: middle;\n",
              "    }\n",
              "\n",
              "    .dataframe tbody tr th {\n",
              "        vertical-align: top;\n",
              "    }\n",
              "\n",
              "    .dataframe thead th {\n",
              "        text-align: right;\n",
              "    }\n",
              "</style>\n",
              "<table border=\"1\" class=\"dataframe\">\n",
              "  <thead>\n",
              "    <tr style=\"text-align: right;\">\n",
              "      <th></th>\n",
              "      <th>Biennium</th>\n",
              "      <th>Bill ID</th>\n",
              "      <th>Bill Number</th>\n",
              "      <th>Bill Type</th>\n",
              "      <th>Agency</th>\n",
              "      <th>Bill Text</th>\n",
              "    </tr>\n",
              "  </thead>\n",
              "  <tbody>\n",
              "    <tr>\n",
              "      <th>0</th>\n",
              "      <td>2023-24</td>\n",
              "      <td>HB 1000</td>\n",
              "      <td>1000</td>\n",
              "      <td>Bill</td>\n",
              "      <td>House</td>\n",
              "      <td>ï»¿ H-0113.1 HOUSE BILL 1000 State of Washingt...</td>\n",
              "    </tr>\n",
              "    <tr>\n",
              "      <th>1</th>\n",
              "      <td>2023-24</td>\n",
              "      <td>HB 1001</td>\n",
              "      <td>1001</td>\n",
              "      <td>Bill</td>\n",
              "      <td>House</td>\n",
              "      <td>ï»¿ H-0082.1 HOUSE BILL 1001 State of Washingt...</td>\n",
              "    </tr>\n",
              "    <tr>\n",
              "      <th>2</th>\n",
              "      <td>2023-24</td>\n",
              "      <td>HB 1002</td>\n",
              "      <td>1002</td>\n",
              "      <td>Bill</td>\n",
              "      <td>House</td>\n",
              "      <td>ï»¿ H-0034.1 HOUSE BILL 1002 State of Washingt...</td>\n",
              "    </tr>\n",
              "    <tr>\n",
              "      <th>3</th>\n",
              "      <td>2023-24</td>\n",
              "      <td>HB 1003</td>\n",
              "      <td>1003</td>\n",
              "      <td>Bill</td>\n",
              "      <td>House</td>\n",
              "      <td>ï»¿ H-0142.1 HOUSE BILL 1003 State of Washingt...</td>\n",
              "    </tr>\n",
              "    <tr>\n",
              "      <th>5</th>\n",
              "      <td>2023-24</td>\n",
              "      <td>HB 1004</td>\n",
              "      <td>1004</td>\n",
              "      <td>Bill</td>\n",
              "      <td>House</td>\n",
              "      <td>ï»¿ H-0031.1 HOUSE BILL 1004 State of Washingt...</td>\n",
              "    </tr>\n",
              "    <tr>\n",
              "      <th>...</th>\n",
              "      <td>...</td>\n",
              "      <td>...</td>\n",
              "      <td>...</td>\n",
              "      <td>...</td>\n",
              "      <td>...</td>\n",
              "      <td>...</td>\n",
              "    </tr>\n",
              "    <tr>\n",
              "      <th>1570</th>\n",
              "      <td>2023-24</td>\n",
              "      <td>HR 4647</td>\n",
              "      <td>4647</td>\n",
              "      <td>Resolution</td>\n",
              "      <td>House</td>\n",
              "      <td>None</td>\n",
              "    </tr>\n",
              "    <tr>\n",
              "      <th>1571</th>\n",
              "      <td>2023-24</td>\n",
              "      <td>HR 4648</td>\n",
              "      <td>4648</td>\n",
              "      <td>Resolution</td>\n",
              "      <td>House</td>\n",
              "      <td>None</td>\n",
              "    </tr>\n",
              "    <tr>\n",
              "      <th>1572</th>\n",
              "      <td>2023-24</td>\n",
              "      <td>HR 4649</td>\n",
              "      <td>4649</td>\n",
              "      <td>Resolution</td>\n",
              "      <td>House</td>\n",
              "      <td>None</td>\n",
              "    </tr>\n",
              "    <tr>\n",
              "      <th>1573</th>\n",
              "      <td>2023-24</td>\n",
              "      <td>HR 4650</td>\n",
              "      <td>4650</td>\n",
              "      <td>Resolution</td>\n",
              "      <td>House</td>\n",
              "      <td>None</td>\n",
              "    </tr>\n",
              "    <tr>\n",
              "      <th>1574</th>\n",
              "      <td>2023-24</td>\n",
              "      <td>HR 4651</td>\n",
              "      <td>4651</td>\n",
              "      <td>Resolution</td>\n",
              "      <td>House</td>\n",
              "      <td>None</td>\n",
              "    </tr>\n",
              "  </tbody>\n",
              "</table>\n",
              "<p>1140 rows × 6 columns</p>\n",
              "</div>"
            ],
            "text/plain": [
              "     Biennium  Bill ID Bill Number   Bill Type Agency  \\\n",
              "0     2023-24  HB 1000        1000        Bill  House   \n",
              "1     2023-24  HB 1001        1001        Bill  House   \n",
              "2     2023-24  HB 1002        1002        Bill  House   \n",
              "3     2023-24  HB 1003        1003        Bill  House   \n",
              "5     2023-24  HB 1004        1004        Bill  House   \n",
              "...       ...      ...         ...         ...    ...   \n",
              "1570  2023-24  HR 4647        4647  Resolution  House   \n",
              "1571  2023-24  HR 4648        4648  Resolution  House   \n",
              "1572  2023-24  HR 4649        4649  Resolution  House   \n",
              "1573  2023-24  HR 4650        4650  Resolution  House   \n",
              "1574  2023-24  HR 4651        4651  Resolution  House   \n",
              "\n",
              "                                              Bill Text  \n",
              "0     ï»¿ H-0113.1 HOUSE BILL 1000 State of Washingt...  \n",
              "1     ï»¿ H-0082.1 HOUSE BILL 1001 State of Washingt...  \n",
              "2     ï»¿ H-0034.1 HOUSE BILL 1002 State of Washingt...  \n",
              "3     ï»¿ H-0142.1 HOUSE BILL 1003 State of Washingt...  \n",
              "5     ï»¿ H-0031.1 HOUSE BILL 1004 State of Washingt...  \n",
              "...                                                 ...  \n",
              "1570                                               None  \n",
              "1571                                               None  \n",
              "1572                                               None  \n",
              "1573                                               None  \n",
              "1574                                               None  \n",
              "\n",
              "[1140 rows x 6 columns]"
            ]
          },
          "execution_count": 12,
          "metadata": {},
          "output_type": "execute_result"
        }
      ],
      "source": [
        "house_df"
      ]
    },
    {
      "cell_type": "code",
      "execution_count": null,
      "metadata": {},
      "outputs": [],
      "source": [
        "house_df.to_csv('house_df.csv')"
      ]
    },
    {
      "cell_type": "code",
      "execution_count": null,
      "metadata": {},
      "outputs": [],
      "source": [
        "senate_df = senate_df.loc[senate_df['Bill Type'] == 'Bill']"
      ]
    },
    {
      "cell_type": "code",
      "execution_count": null,
      "metadata": {
        "id": "pq5ja5xxSMTl"
      },
      "outputs": [
        {
          "ename": "KeyboardInterrupt",
          "evalue": "",
          "output_type": "error",
          "traceback": [
            "\u001b[0;31m---------------------------------------------------------------------------\u001b[0m",
            "\u001b[0;31mKeyboardInterrupt\u001b[0m                         Traceback (most recent call last)",
            "Cell \u001b[0;32mIn[18], line 1\u001b[0m\n\u001b[0;32m----> 1\u001b[0m senate_df[\u001b[38;5;124m'\u001b[39m\u001b[38;5;124mBill Text\u001b[39m\u001b[38;5;124m'\u001b[39m] \u001b[38;5;241m=\u001b[39m \u001b[43msubset_df\u001b[49m\u001b[38;5;241;43m.\u001b[39;49m\u001b[43mapply\u001b[49m\u001b[43m(\u001b[49m\u001b[38;5;28;43;01mlambda\u001b[39;49;00m\u001b[43m \u001b[49m\u001b[43mx\u001b[49m\u001b[43m:\u001b[49m\u001b[43m \u001b[49m\u001b[43mget_bill_text\u001b[49m\u001b[43m(\u001b[49m\u001b[43mx\u001b[49m\u001b[43m[\u001b[49m\u001b[38;5;124;43m'\u001b[39;49m\u001b[38;5;124;43mBill Number\u001b[39;49m\u001b[38;5;124;43m'\u001b[39;49m\u001b[43m]\u001b[49m\u001b[43m,\u001b[49m\u001b[43m \u001b[49m\u001b[43mx\u001b[49m\u001b[43m[\u001b[49m\u001b[38;5;124;43m'\u001b[39;49m\u001b[38;5;124;43mBill Type\u001b[39;49m\u001b[38;5;124;43m'\u001b[39;49m\u001b[43m]\u001b[49m\u001b[43m,\u001b[49m\u001b[43m \u001b[49m\u001b[43mx\u001b[49m\u001b[43m[\u001b[49m\u001b[38;5;124;43m'\u001b[39;49m\u001b[38;5;124;43mAgency\u001b[39;49m\u001b[38;5;124;43m'\u001b[39;49m\u001b[43m]\u001b[49m\u001b[43m)\u001b[49m\u001b[43m,\u001b[49m\u001b[43m \u001b[49m\u001b[43maxis\u001b[49m\u001b[38;5;241;43m=\u001b[39;49m\u001b[38;5;241;43m1\u001b[39;49m\u001b[43m)\u001b[49m\n",
            "File \u001b[0;32m~/Documents/landscape-doc-parser/ldp/lib/python3.11/site-packages/pandas/core/frame.py:10361\u001b[0m, in \u001b[0;36mDataFrame.apply\u001b[0;34m(self, func, axis, raw, result_type, args, by_row, engine, engine_kwargs, **kwargs)\u001b[0m\n\u001b[1;32m  10347\u001b[0m \u001b[38;5;28;01mfrom\u001b[39;00m \u001b[38;5;21;01mpandas\u001b[39;00m\u001b[38;5;21;01m.\u001b[39;00m\u001b[38;5;21;01mcore\u001b[39;00m\u001b[38;5;21;01m.\u001b[39;00m\u001b[38;5;21;01mapply\u001b[39;00m \u001b[38;5;28;01mimport\u001b[39;00m frame_apply\n\u001b[1;32m  10349\u001b[0m op \u001b[38;5;241m=\u001b[39m frame_apply(\n\u001b[1;32m  10350\u001b[0m     \u001b[38;5;28mself\u001b[39m,\n\u001b[1;32m  10351\u001b[0m     func\u001b[38;5;241m=\u001b[39mfunc,\n\u001b[0;32m   (...)\u001b[0m\n\u001b[1;32m  10359\u001b[0m     kwargs\u001b[38;5;241m=\u001b[39mkwargs,\n\u001b[1;32m  10360\u001b[0m )\n\u001b[0;32m> 10361\u001b[0m \u001b[38;5;28;01mreturn\u001b[39;00m \u001b[43mop\u001b[49m\u001b[38;5;241;43m.\u001b[39;49m\u001b[43mapply\u001b[49m\u001b[43m(\u001b[49m\u001b[43m)\u001b[49m\u001b[38;5;241m.\u001b[39m__finalize__(\u001b[38;5;28mself\u001b[39m, method\u001b[38;5;241m=\u001b[39m\u001b[38;5;124m\"\u001b[39m\u001b[38;5;124mapply\u001b[39m\u001b[38;5;124m\"\u001b[39m)\n",
            "File \u001b[0;32m~/Documents/landscape-doc-parser/ldp/lib/python3.11/site-packages/pandas/core/apply.py:916\u001b[0m, in \u001b[0;36mFrameApply.apply\u001b[0;34m(self)\u001b[0m\n\u001b[1;32m    913\u001b[0m \u001b[38;5;28;01melif\u001b[39;00m \u001b[38;5;28mself\u001b[39m\u001b[38;5;241m.\u001b[39mraw:\n\u001b[1;32m    914\u001b[0m     \u001b[38;5;28;01mreturn\u001b[39;00m \u001b[38;5;28mself\u001b[39m\u001b[38;5;241m.\u001b[39mapply_raw(engine\u001b[38;5;241m=\u001b[39m\u001b[38;5;28mself\u001b[39m\u001b[38;5;241m.\u001b[39mengine, engine_kwargs\u001b[38;5;241m=\u001b[39m\u001b[38;5;28mself\u001b[39m\u001b[38;5;241m.\u001b[39mengine_kwargs)\n\u001b[0;32m--> 916\u001b[0m \u001b[38;5;28;01mreturn\u001b[39;00m \u001b[38;5;28;43mself\u001b[39;49m\u001b[38;5;241;43m.\u001b[39;49m\u001b[43mapply_standard\u001b[49m\u001b[43m(\u001b[49m\u001b[43m)\u001b[49m\n",
            "File \u001b[0;32m~/Documents/landscape-doc-parser/ldp/lib/python3.11/site-packages/pandas/core/apply.py:1063\u001b[0m, in \u001b[0;36mFrameApply.apply_standard\u001b[0;34m(self)\u001b[0m\n\u001b[1;32m   1061\u001b[0m \u001b[38;5;28;01mdef\u001b[39;00m \u001b[38;5;21mapply_standard\u001b[39m(\u001b[38;5;28mself\u001b[39m):\n\u001b[1;32m   1062\u001b[0m     \u001b[38;5;28;01mif\u001b[39;00m \u001b[38;5;28mself\u001b[39m\u001b[38;5;241m.\u001b[39mengine \u001b[38;5;241m==\u001b[39m \u001b[38;5;124m\"\u001b[39m\u001b[38;5;124mpython\u001b[39m\u001b[38;5;124m\"\u001b[39m:\n\u001b[0;32m-> 1063\u001b[0m         results, res_index \u001b[38;5;241m=\u001b[39m \u001b[38;5;28;43mself\u001b[39;49m\u001b[38;5;241;43m.\u001b[39;49m\u001b[43mapply_series_generator\u001b[49m\u001b[43m(\u001b[49m\u001b[43m)\u001b[49m\n\u001b[1;32m   1064\u001b[0m     \u001b[38;5;28;01melse\u001b[39;00m:\n\u001b[1;32m   1065\u001b[0m         results, res_index \u001b[38;5;241m=\u001b[39m \u001b[38;5;28mself\u001b[39m\u001b[38;5;241m.\u001b[39mapply_series_numba()\n",
            "File \u001b[0;32m~/Documents/landscape-doc-parser/ldp/lib/python3.11/site-packages/pandas/core/apply.py:1081\u001b[0m, in \u001b[0;36mFrameApply.apply_series_generator\u001b[0;34m(self)\u001b[0m\n\u001b[1;32m   1078\u001b[0m \u001b[38;5;28;01mwith\u001b[39;00m option_context(\u001b[38;5;124m\"\u001b[39m\u001b[38;5;124mmode.chained_assignment\u001b[39m\u001b[38;5;124m\"\u001b[39m, \u001b[38;5;28;01mNone\u001b[39;00m):\n\u001b[1;32m   1079\u001b[0m     \u001b[38;5;28;01mfor\u001b[39;00m i, v \u001b[38;5;129;01min\u001b[39;00m \u001b[38;5;28menumerate\u001b[39m(series_gen):\n\u001b[1;32m   1080\u001b[0m         \u001b[38;5;66;03m# ignore SettingWithCopy here in case the user mutates\u001b[39;00m\n\u001b[0;32m-> 1081\u001b[0m         results[i] \u001b[38;5;241m=\u001b[39m \u001b[38;5;28;43mself\u001b[39;49m\u001b[38;5;241;43m.\u001b[39;49m\u001b[43mfunc\u001b[49m\u001b[43m(\u001b[49m\u001b[43mv\u001b[49m\u001b[43m,\u001b[49m\u001b[43m \u001b[49m\u001b[38;5;241;43m*\u001b[39;49m\u001b[38;5;28;43mself\u001b[39;49m\u001b[38;5;241;43m.\u001b[39;49m\u001b[43margs\u001b[49m\u001b[43m,\u001b[49m\u001b[43m \u001b[49m\u001b[38;5;241;43m*\u001b[39;49m\u001b[38;5;241;43m*\u001b[39;49m\u001b[38;5;28;43mself\u001b[39;49m\u001b[38;5;241;43m.\u001b[39;49m\u001b[43mkwargs\u001b[49m\u001b[43m)\u001b[49m\n\u001b[1;32m   1082\u001b[0m         \u001b[38;5;28;01mif\u001b[39;00m \u001b[38;5;28misinstance\u001b[39m(results[i], ABCSeries):\n\u001b[1;32m   1083\u001b[0m             \u001b[38;5;66;03m# If we have a view on v, we need to make a copy because\u001b[39;00m\n\u001b[1;32m   1084\u001b[0m             \u001b[38;5;66;03m#  series_generator will swap out the underlying data\u001b[39;00m\n\u001b[1;32m   1085\u001b[0m             results[i] \u001b[38;5;241m=\u001b[39m results[i]\u001b[38;5;241m.\u001b[39mcopy(deep\u001b[38;5;241m=\u001b[39m\u001b[38;5;28;01mFalse\u001b[39;00m)\n",
            "Cell \u001b[0;32mIn[18], line 1\u001b[0m, in \u001b[0;36m<lambda>\u001b[0;34m(x)\u001b[0m\n\u001b[0;32m----> 1\u001b[0m senate_df[\u001b[38;5;124m'\u001b[39m\u001b[38;5;124mBill Text\u001b[39m\u001b[38;5;124m'\u001b[39m] \u001b[38;5;241m=\u001b[39m subset_df\u001b[38;5;241m.\u001b[39mapply(\u001b[38;5;28;01mlambda\u001b[39;00m x: \u001b[43mget_bill_text\u001b[49m\u001b[43m(\u001b[49m\u001b[43mx\u001b[49m\u001b[43m[\u001b[49m\u001b[38;5;124;43m'\u001b[39;49m\u001b[38;5;124;43mBill Number\u001b[39;49m\u001b[38;5;124;43m'\u001b[39;49m\u001b[43m]\u001b[49m\u001b[43m,\u001b[49m\u001b[43m \u001b[49m\u001b[43mx\u001b[49m\u001b[43m[\u001b[49m\u001b[38;5;124;43m'\u001b[39;49m\u001b[38;5;124;43mBill Type\u001b[39;49m\u001b[38;5;124;43m'\u001b[39;49m\u001b[43m]\u001b[49m\u001b[43m,\u001b[49m\u001b[43m \u001b[49m\u001b[43mx\u001b[49m\u001b[43m[\u001b[49m\u001b[38;5;124;43m'\u001b[39;49m\u001b[38;5;124;43mAgency\u001b[39;49m\u001b[38;5;124;43m'\u001b[39;49m\u001b[43m]\u001b[49m\u001b[43m)\u001b[49m, axis\u001b[38;5;241m=\u001b[39m\u001b[38;5;241m1\u001b[39m)\n",
            "Cell \u001b[0;32mIn[9], line 11\u001b[0m, in \u001b[0;36mget_bill_text\u001b[0;34m(bill_number, type, agency)\u001b[0m\n\u001b[1;32m      8\u001b[0m random_seconds \u001b[38;5;241m=\u001b[39m randint(\u001b[38;5;241m1\u001b[39m, \u001b[38;5;241m3\u001b[39m)  \u001b[38;5;66;03m# Random wait between 1 and 3 seconds\u001b[39;00m\n\u001b[1;32m     10\u001b[0m \u001b[38;5;66;03m# Wait for the random number of seconds\u001b[39;00m\n\u001b[0;32m---> 11\u001b[0m time\u001b[38;5;241m.\u001b[39msleep(random_seconds)\n\u001b[1;32m     13\u001b[0m \u001b[38;5;66;03m# Send HTTP request to the URL\u001b[39;00m\n\u001b[1;32m     14\u001b[0m response \u001b[38;5;241m=\u001b[39m requests\u001b[38;5;241m.\u001b[39mget(url)\n",
            "\u001b[0;31mKeyboardInterrupt\u001b[0m: "
          ]
        }
      ],
      "source": [
        "senate_df['Bill Text'] = subset_df.apply(lambda x: get_bill_text(x['Bill Number'], x['Bill Type'], x['Agency']), axis=1)"
      ]
    },
    {
      "cell_type": "code",
      "execution_count": null,
      "metadata": {},
      "outputs": [
        {
          "data": {
            "text/html": [
              "<div>\n",
              "<style scoped>\n",
              "    .dataframe tbody tr th:only-of-type {\n",
              "        vertical-align: middle;\n",
              "    }\n",
              "\n",
              "    .dataframe tbody tr th {\n",
              "        vertical-align: top;\n",
              "    }\n",
              "\n",
              "    .dataframe thead th {\n",
              "        text-align: right;\n",
              "    }\n",
              "</style>\n",
              "<table border=\"1\" class=\"dataframe\">\n",
              "  <thead>\n",
              "    <tr style=\"text-align: right;\">\n",
              "      <th></th>\n",
              "      <th>Biennium</th>\n",
              "      <th>Bill ID</th>\n",
              "      <th>Bill Number</th>\n",
              "      <th>Bill Type</th>\n",
              "      <th>Agency</th>\n",
              "    </tr>\n",
              "  </thead>\n",
              "  <tbody>\n",
              "    <tr>\n",
              "      <th>1575</th>\n",
              "      <td>2023-24</td>\n",
              "      <td>SB 5000</td>\n",
              "      <td>5000</td>\n",
              "      <td>Bill</td>\n",
              "      <td>Senate</td>\n",
              "    </tr>\n",
              "    <tr>\n",
              "      <th>1576</th>\n",
              "      <td>2023-24</td>\n",
              "      <td>SB 5001</td>\n",
              "      <td>5001</td>\n",
              "      <td>Bill</td>\n",
              "      <td>Senate</td>\n",
              "    </tr>\n",
              "    <tr>\n",
              "      <th>1579</th>\n",
              "      <td>2023-24</td>\n",
              "      <td>SB 5002</td>\n",
              "      <td>5002</td>\n",
              "      <td>Bill</td>\n",
              "      <td>Senate</td>\n",
              "    </tr>\n",
              "    <tr>\n",
              "      <th>1582</th>\n",
              "      <td>2023-24</td>\n",
              "      <td>SB 5003</td>\n",
              "      <td>5003</td>\n",
              "      <td>Bill</td>\n",
              "      <td>Senate</td>\n",
              "    </tr>\n",
              "    <tr>\n",
              "      <th>1583</th>\n",
              "      <td>2023-24</td>\n",
              "      <td>SB 5004</td>\n",
              "      <td>5004</td>\n",
              "      <td>Bill</td>\n",
              "      <td>Senate</td>\n",
              "    </tr>\n",
              "    <tr>\n",
              "      <th>...</th>\n",
              "      <td>...</td>\n",
              "      <td>...</td>\n",
              "      <td>...</td>\n",
              "      <td>...</td>\n",
              "      <td>...</td>\n",
              "    </tr>\n",
              "    <tr>\n",
              "      <th>2853</th>\n",
              "      <td>2023-24</td>\n",
              "      <td>SB 5925</td>\n",
              "      <td>5925</td>\n",
              "      <td>Bill</td>\n",
              "      <td>Senate</td>\n",
              "    </tr>\n",
              "    <tr>\n",
              "      <th>2854</th>\n",
              "      <td>2023-24</td>\n",
              "      <td>SB 5926</td>\n",
              "      <td>5926</td>\n",
              "      <td>Bill</td>\n",
              "      <td>Senate</td>\n",
              "    </tr>\n",
              "    <tr>\n",
              "      <th>2855</th>\n",
              "      <td>2023-24</td>\n",
              "      <td>SB 5927</td>\n",
              "      <td>5927</td>\n",
              "      <td>Bill</td>\n",
              "      <td>Senate</td>\n",
              "    </tr>\n",
              "    <tr>\n",
              "      <th>2856</th>\n",
              "      <td>2023-24</td>\n",
              "      <td>SB 5928</td>\n",
              "      <td>5928</td>\n",
              "      <td>Bill</td>\n",
              "      <td>Senate</td>\n",
              "    </tr>\n",
              "    <tr>\n",
              "      <th>2857</th>\n",
              "      <td>2023-24</td>\n",
              "      <td>SB 5929</td>\n",
              "      <td>5929</td>\n",
              "      <td>Bill</td>\n",
              "      <td>Senate</td>\n",
              "    </tr>\n",
              "  </tbody>\n",
              "</table>\n",
              "<p>930 rows × 5 columns</p>\n",
              "</div>"
            ],
            "text/plain": [
              "     Biennium  Bill ID Bill Number Bill Type  Agency\n",
              "1575  2023-24  SB 5000        5000      Bill  Senate\n",
              "1576  2023-24  SB 5001        5001      Bill  Senate\n",
              "1579  2023-24  SB 5002        5002      Bill  Senate\n",
              "1582  2023-24  SB 5003        5003      Bill  Senate\n",
              "1583  2023-24  SB 5004        5004      Bill  Senate\n",
              "...       ...      ...         ...       ...     ...\n",
              "2853  2023-24  SB 5925        5925      Bill  Senate\n",
              "2854  2023-24  SB 5926        5926      Bill  Senate\n",
              "2855  2023-24  SB 5927        5927      Bill  Senate\n",
              "2856  2023-24  SB 5928        5928      Bill  Senate\n",
              "2857  2023-24  SB 5929        5929      Bill  Senate\n",
              "\n",
              "[930 rows x 5 columns]"
            ]
          },
          "execution_count": 17,
          "metadata": {},
          "output_type": "execute_result"
        }
      ],
      "source": [
        "senate_df"
      ]
    },
    {
      "cell_type": "code",
      "execution_count": null,
      "metadata": {
        "id": "RjZsYc0fSO-E"
      },
      "outputs": [],
      "source": [
        "subset_df = pd.concat(house_df, senate_df)"
      ]
    },
    {
      "cell_type": "code",
      "execution_count": null,
      "metadata": {
        "id": "GWEpCLmr5OU-"
      },
      "outputs": [],
      "source": [
        "subset_df['Summary'] = None"
      ]
    },
    {
      "cell_type": "code",
      "execution_count": null,
      "metadata": {
        "id": "YglC00u878Di"
      },
      "outputs": [],
      "source": [
        "subset_df"
      ]
    },
    {
      "cell_type": "code",
      "execution_count": null,
      "metadata": {
        "id": "MsKCPAMB6wgp"
      },
      "outputs": [],
      "source": [
        "subset_df.to_csv('bills.csv')"
      ]
    },
    {
      "cell_type": "code",
      "execution_count": null,
      "metadata": {},
      "outputs": [],
      "source": [
        "hb = pd.read_csv('house_df.csv')"
      ]
    },
    {
      "cell_type": "code",
      "execution_count": null,
      "metadata": {},
      "outputs": [],
      "source": [
        "hb['Summary'] = None"
      ]
    },
    {
      "cell_type": "code",
      "execution_count": 26,
      "metadata": {},
      "outputs": [
        {
          "data": {
            "text/html": [
              "<div>\n",
              "<style scoped>\n",
              "    .dataframe tbody tr th:only-of-type {\n",
              "        vertical-align: middle;\n",
              "    }\n",
              "\n",
              "    .dataframe tbody tr th {\n",
              "        vertical-align: top;\n",
              "    }\n",
              "\n",
              "    .dataframe thead th {\n",
              "        text-align: right;\n",
              "    }\n",
              "</style>\n",
              "<table border=\"1\" class=\"dataframe\">\n",
              "  <thead>\n",
              "    <tr style=\"text-align: right;\">\n",
              "      <th></th>\n",
              "      <th>Unnamed: 0.1</th>\n",
              "      <th>Unnamed: 0</th>\n",
              "      <th>Biennium</th>\n",
              "      <th>Bill ID</th>\n",
              "      <th>Bill Number</th>\n",
              "      <th>Bill Type</th>\n",
              "      <th>Agency</th>\n",
              "      <th>Bill Text</th>\n",
              "      <th>Summary</th>\n",
              "    </tr>\n",
              "  </thead>\n",
              "  <tbody>\n",
              "    <tr>\n",
              "      <th>0</th>\n",
              "      <td>0</td>\n",
              "      <td>0</td>\n",
              "      <td>2023-24</td>\n",
              "      <td>HB 1000</td>\n",
              "      <td>1000</td>\n",
              "      <td>Bill</td>\n",
              "      <td>House</td>\n",
              "      <td>ï»¿ H-0113.1 HOUSE BILL 1000 State of Washingt...</td>\n",
              "      <td>NaN</td>\n",
              "    </tr>\n",
              "    <tr>\n",
              "      <th>1</th>\n",
              "      <td>1</td>\n",
              "      <td>1</td>\n",
              "      <td>2023-24</td>\n",
              "      <td>HB 1001</td>\n",
              "      <td>1001</td>\n",
              "      <td>Bill</td>\n",
              "      <td>House</td>\n",
              "      <td>ï»¿ H-0082.1 HOUSE BILL 1001 State of Washingt...</td>\n",
              "      <td>NaN</td>\n",
              "    </tr>\n",
              "    <tr>\n",
              "      <th>2</th>\n",
              "      <td>2</td>\n",
              "      <td>2</td>\n",
              "      <td>2023-24</td>\n",
              "      <td>HB 1002</td>\n",
              "      <td>1002</td>\n",
              "      <td>Bill</td>\n",
              "      <td>House</td>\n",
              "      <td>ï»¿ H-0034.1 HOUSE BILL 1002 State of Washingt...</td>\n",
              "      <td>NaN</td>\n",
              "    </tr>\n",
              "    <tr>\n",
              "      <th>3</th>\n",
              "      <td>3</td>\n",
              "      <td>3</td>\n",
              "      <td>2023-24</td>\n",
              "      <td>HB 1003</td>\n",
              "      <td>1003</td>\n",
              "      <td>Bill</td>\n",
              "      <td>House</td>\n",
              "      <td>ï»¿ H-0142.1 HOUSE BILL 1003 State of Washingt...</td>\n",
              "      <td>NaN</td>\n",
              "    </tr>\n",
              "    <tr>\n",
              "      <th>4</th>\n",
              "      <td>4</td>\n",
              "      <td>5</td>\n",
              "      <td>2023-24</td>\n",
              "      <td>HB 1004</td>\n",
              "      <td>1004</td>\n",
              "      <td>Bill</td>\n",
              "      <td>House</td>\n",
              "      <td>ï»¿ H-0031.1 HOUSE BILL 1004 State of Washingt...</td>\n",
              "      <td>NaN</td>\n",
              "    </tr>\n",
              "    <tr>\n",
              "      <th>...</th>\n",
              "      <td>...</td>\n",
              "      <td>...</td>\n",
              "      <td>...</td>\n",
              "      <td>...</td>\n",
              "      <td>...</td>\n",
              "      <td>...</td>\n",
              "      <td>...</td>\n",
              "      <td>...</td>\n",
              "      <td>...</td>\n",
              "    </tr>\n",
              "    <tr>\n",
              "      <th>1063</th>\n",
              "      <td>1063</td>\n",
              "      <td>1497</td>\n",
              "      <td>2023-24</td>\n",
              "      <td>HB 2063</td>\n",
              "      <td>2063</td>\n",
              "      <td>Bill</td>\n",
              "      <td>House</td>\n",
              "      <td>ï»¿ H-2323.1 HOUSE BILL 2063 State of Washingt...</td>\n",
              "      <td>NaN</td>\n",
              "    </tr>\n",
              "    <tr>\n",
              "      <th>1064</th>\n",
              "      <td>1064</td>\n",
              "      <td>1498</td>\n",
              "      <td>2023-24</td>\n",
              "      <td>HB 2064</td>\n",
              "      <td>2064</td>\n",
              "      <td>Bill</td>\n",
              "      <td>House</td>\n",
              "      <td>ï»¿ H-2325.1 HOUSE BILL 2064 State of Washingt...</td>\n",
              "      <td>NaN</td>\n",
              "    </tr>\n",
              "    <tr>\n",
              "      <th>1065</th>\n",
              "      <td>1065</td>\n",
              "      <td>1499</td>\n",
              "      <td>2023-24</td>\n",
              "      <td>HB 2065</td>\n",
              "      <td>2065</td>\n",
              "      <td>Bill</td>\n",
              "      <td>House</td>\n",
              "      <td>ï»¿ H-2336.1 HOUSE BILL 2065 State of Washingt...</td>\n",
              "      <td>NaN</td>\n",
              "    </tr>\n",
              "    <tr>\n",
              "      <th>1066</th>\n",
              "      <td>1066</td>\n",
              "      <td>1500</td>\n",
              "      <td>2023-24</td>\n",
              "      <td>HB 2066</td>\n",
              "      <td>2066</td>\n",
              "      <td>Bill</td>\n",
              "      <td>House</td>\n",
              "      <td>ï»¿ H-2377.1 HOUSE BILL 2066 State of Washingt...</td>\n",
              "      <td>NaN</td>\n",
              "    </tr>\n",
              "    <tr>\n",
              "      <th>1067</th>\n",
              "      <td>1067</td>\n",
              "      <td>1501</td>\n",
              "      <td>2023-24</td>\n",
              "      <td>HB 2067</td>\n",
              "      <td>2067</td>\n",
              "      <td>Bill</td>\n",
              "      <td>House</td>\n",
              "      <td>ï»¿ H-2217.1 HOUSE BILL 2067 State of Washingt...</td>\n",
              "      <td>NaN</td>\n",
              "    </tr>\n",
              "  </tbody>\n",
              "</table>\n",
              "<p>1068 rows × 9 columns</p>\n",
              "</div>"
            ],
            "text/plain": [
              "      Unnamed: 0.1  Unnamed: 0 Biennium  Bill ID  Bill Number Bill Type  \\\n",
              "0                0           0  2023-24  HB 1000         1000      Bill   \n",
              "1                1           1  2023-24  HB 1001         1001      Bill   \n",
              "2                2           2  2023-24  HB 1002         1002      Bill   \n",
              "3                3           3  2023-24  HB 1003         1003      Bill   \n",
              "4                4           5  2023-24  HB 1004         1004      Bill   \n",
              "...            ...         ...      ...      ...          ...       ...   \n",
              "1063          1063        1497  2023-24  HB 2063         2063      Bill   \n",
              "1064          1064        1498  2023-24  HB 2064         2064      Bill   \n",
              "1065          1065        1499  2023-24  HB 2065         2065      Bill   \n",
              "1066          1066        1500  2023-24  HB 2066         2066      Bill   \n",
              "1067          1067        1501  2023-24  HB 2067         2067      Bill   \n",
              "\n",
              "     Agency                                          Bill Text  Summary  \n",
              "0     House  ï»¿ H-0113.1 HOUSE BILL 1000 State of Washingt...      NaN  \n",
              "1     House  ï»¿ H-0082.1 HOUSE BILL 1001 State of Washingt...      NaN  \n",
              "2     House  ï»¿ H-0034.1 HOUSE BILL 1002 State of Washingt...      NaN  \n",
              "3     House  ï»¿ H-0142.1 HOUSE BILL 1003 State of Washingt...      NaN  \n",
              "4     House  ï»¿ H-0031.1 HOUSE BILL 1004 State of Washingt...      NaN  \n",
              "...     ...                                                ...      ...  \n",
              "1063  House  ï»¿ H-2323.1 HOUSE BILL 2063 State of Washingt...      NaN  \n",
              "1064  House  ï»¿ H-2325.1 HOUSE BILL 2064 State of Washingt...      NaN  \n",
              "1065  House  ï»¿ H-2336.1 HOUSE BILL 2065 State of Washingt...      NaN  \n",
              "1066  House  ï»¿ H-2377.1 HOUSE BILL 2066 State of Washingt...      NaN  \n",
              "1067  House  ï»¿ H-2217.1 HOUSE BILL 2067 State of Washingt...      NaN  \n",
              "\n",
              "[1068 rows x 9 columns]"
            ]
          },
          "execution_count": 26,
          "metadata": {},
          "output_type": "execute_result"
        }
      ],
      "source": [
        "hb"
      ]
    },
    {
      "cell_type": "code",
      "execution_count": 29,
      "metadata": {},
      "outputs": [],
      "source": [
        "hb.to_csv('house_df.csv')"
      ]
    },
    {
      "cell_type": "code",
      "execution_count": 12,
      "metadata": {},
      "outputs": [],
      "source": [
        "hb = hb.loc[hb['Bill Type'] == 'Bill']"
      ]
    },
    {
      "cell_type": "code",
      "execution_count": 28,
      "metadata": {},
      "outputs": [],
      "source": [
        "hb = hb[['Biennium', 'Bill ID', 'Bill Number',\n",
        "       'Bill Type', 'Agency', 'Bill Text', 'Summary']]"
      ]
    },
    {
      "cell_type": "code",
      "execution_count": null,
      "metadata": {},
      "outputs": [],
      "source": []
    }
  ],
  "metadata": {
    "colab": {
      "provenance": []
    },
    "kernelspec": {
      "display_name": "Python 3",
      "name": "python3"
    },
    "language_info": {
      "codemirror_mode": {
        "name": "ipython",
        "version": 3
      },
      "file_extension": ".py",
      "mimetype": "text/x-python",
      "name": "python",
      "nbconvert_exporter": "python",
      "pygments_lexer": "ipython3",
      "version": "3.11.5"
    }
  },
  "nbformat": 4,
  "nbformat_minor": 0
}
